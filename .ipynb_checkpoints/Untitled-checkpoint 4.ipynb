{
 "cells": [
  {
   "cell_type": "code",
   "execution_count": 1,
   "id": "4ebae125",
   "metadata": {},
   "outputs": [],
   "source": [
    "import numpy as np\n",
    "import matplotlib.pyplot as plt"
   ]
  },
  {
   "cell_type": "code",
   "execution_count": null,
   "id": "722dd2a5",
   "metadata": {},
   "outputs": [],
   "source": [
    "\n",
    "Obs=np.array([3.96863, 2.82549, 3.04489, 3.3085, 2.8849, 4.07995, 7.97069, 2.89264, 3.33693, 3.97197])\n",
    "exp=np.array([3.06069, 3.03231, 3.1143, 3.0343, 3.2164, 3.2031, 3.3403, 3.52974, 3.5021, 3.6234])"
   ]
  }
 ],
 "metadata": {
  "kernelspec": {
   "display_name": "Python 3",
   "language": "python",
   "name": "python3"
  },
  "language_info": {
   "codemirror_mode": {
    "name": "ipython",
    "version": 3
   },
   "file_extension": ".py",
   "mimetype": "text/x-python",
   "name": "python",
   "nbconvert_exporter": "python",
   "pygments_lexer": "ipython3",
   "version": "3.9.10"
  }
 },
 "nbformat": 4,
 "nbformat_minor": 5
}
