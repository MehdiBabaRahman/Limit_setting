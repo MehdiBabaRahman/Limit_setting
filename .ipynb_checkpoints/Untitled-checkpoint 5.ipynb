{
 "cells": [
  {
   "cell_type": "code",
   "execution_count": 1,
   "id": "47d28e24",
   "metadata": {},
   "outputs": [],
   "source": [
    "import numpy as np\n",
    "import matplotlib.pyplot as plt"
   ]
  },
  {
   "cell_type": "code",
   "execution_count": 2,
   "id": "107c7b56",
   "metadata": {},
   "outputs": [],
   "source": [
    "m=np.array([5, 15, 20, 25, 30, 35, 40, 45, 50, 55])\n",
    "Obs=np.array([3.96863, 2.82549, 3.04489, 3.3085, 2.8849, 4.07995, 7.97069, 2.89264, 3.33693, 3.97197])\n",
    "exp=np.array([3.06069, 3.03231, 3.1143, 3.0343, 3.2164, 3.2031, 3.3403, 3.52974, 3.5021, 3.6234])"
   ]
  },
  {
   "cell_type": "code",
   "execution_count": null,
   "id": "adfeb5d5",
   "metadata": {},
   "outputs": [],
   "source": [
    "fig, ax = plt.subplots(figsize=(8,8))\n",
    "ax.plot(m, obs, label = r'$M_{Z_{D}} = 88 [GeV]$')\n",
    "ax.plt(m, exp, label = r'$M_{Z_{D}} = 95 [GeV]$')\n",
    "\n"
   ]
  }
 ],
 "metadata": {
  "kernelspec": {
   "display_name": "Python 3",
   "language": "python",
   "name": "python3"
  },
  "language_info": {
   "codemirror_mode": {
    "name": "ipython",
    "version": 3
   },
   "file_extension": ".py",
   "mimetype": "text/x-python",
   "name": "python",
   "nbconvert_exporter": "python",
   "pygments_lexer": "ipython3",
   "version": "3.9.10"
  }
 },
 "nbformat": 4,
 "nbformat_minor": 5
}
